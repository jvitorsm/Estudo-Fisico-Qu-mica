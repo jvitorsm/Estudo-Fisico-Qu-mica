{
 "cells": [
  {
   "cell_type": "code",
   "execution_count": 39,
   "metadata": {},
   "outputs": [],
   "source": [
    "import sympy as sp\n",
    "import numpy as np\n",
    "import math "
   ]
  },
  {
   "cell_type": "code",
   "execution_count": 40,
   "metadata": {},
   "outputs": [],
   "source": [
    "x, y, z, i, j, k, ddx, ddy, ddz, P, Q, R, B, E0, E = sp.symbols('x y z i j k ddx ddy ddz P Q R B E0 E')"
   ]
  },
  {
   "cell_type": "code",
   "execution_count": 41,
   "metadata": {},
   "outputs": [],
   "source": [
    "g = x**3 + 2*y - 4*z** 2\n",
    "gdx = sp.diff(g, x)\n",
    "gdy = sp.diff(g, y)\n",
    "gdz = sp.diff(g, z)"
   ]
  },
  {
   "cell_type": "code",
   "execution_count": 42,
   "metadata": {},
   "outputs": [
    {
     "data": {
      "text/latex": [
       "$\\displaystyle 3 i x^{2} + 2 j - 8 k z$"
      ],
      "text/plain": [
       "3*i*x**2 + 2*j - 8*k*z"
      ]
     },
     "execution_count": 42,
     "metadata": {},
     "output_type": "execute_result"
    }
   ],
   "source": [
    "DivG= gdx*i + gdy*j + gdz*k\n",
    "DivG"
   ]
  },
  {
   "cell_type": "markdown",
   "metadata": {},
   "source": [
    "Seja F um campo vetorial em R3, o rotacional é o campo vetorial dado pelo produto vetorial do operador diferencial com F.\n",
    "\n",
    "Rot F = div x F \n"
   ]
  },
  {
   "cell_type": "code",
   "execution_count": 43,
   "metadata": {},
   "outputs": [
    {
     "data": {
      "text/plain": [
       "array([[i, j, k],\n",
       "       [ddx, ddy, ddz],\n",
       "       [P, Q, R]], dtype=object)"
      ]
     },
     "execution_count": 43,
     "metadata": {},
     "output_type": "execute_result"
    }
   ],
   "source": [
    "matriz = np.array([[i, j, k], [ddx, ddy, ddz], [P, Q, R]])\n",
    "matriz"
   ]
  },
  {
   "cell_type": "code",
   "execution_count": 44,
   "metadata": {},
   "outputs": [
    {
     "data": {
      "text/latex": [
       "$\\displaystyle - P ddy k + P ddz j + Q ddx k - Q ddz i - R ddx j + R ddy i$"
      ],
      "text/plain": [
       "-P*ddy*k + P*ddz*j + Q*ddx*k - Q*ddz*i - R*ddx*j + R*ddy*i"
      ]
     },
     "execution_count": 44,
     "metadata": {},
     "output_type": "execute_result"
    }
   ],
   "source": [
    "m00 = matriz[0][0]\n",
    "m01 = matriz[0][1]\n",
    "m02 = matriz[0][2]\n",
    "m10 = matriz[1][0]\n",
    "m11 = matriz[1][1]\n",
    "m12 = matriz[1][2]\n",
    "m20 = matriz[2][0]\n",
    "m21 = matriz[2][1]\n",
    "m22 = matriz[2][2]\n",
    "\n",
    "diag_sec = (m02*m11*m20)+(m12*m21*m00)+(m22*m10*m01)\n",
    "diag_princ = (m00*m11*m22)+(m10*m21*m02)+(m20*m12*m01)\n",
    "Rot_F = diag_princ - diag_sec\n",
    "\n",
    "Rot_F"
   ]
  },
  {
   "cell_type": "markdown",
   "metadata": {},
   "source": [
    "Calcule o ratacional de F(x,y,z)= yx^2 i + xyz^3 + yz^2"
   ]
  },
  {
   "cell_type": "code",
   "execution_count": 45,
   "metadata": {},
   "outputs": [
    {
     "data": {
      "text/latex": [
       "$\\displaystyle - x^{2} - 3 x y z^{2} + y z^{3} + z^{2}$"
      ],
      "text/plain": [
       "-x**2 - 3*x*y*z**2 + y*z**3 + z**2"
      ]
     },
     "execution_count": 45,
     "metadata": {},
     "output_type": "execute_result"
    }
   ],
   "source": [
    "P = y*x**2\n",
    "Q = x*y*z**3\n",
    "R = y*z**2\n",
    "Rot_F = (sp.diff(R, y)-sp.diff(Q,z))+(sp.diff(P,z)-sp.diff(R,x))+(sp.diff(Q,x)-sp.diff(P,y))\n",
    "Rot_F"
   ]
  },
  {
   "cell_type": "code",
   "execution_count": 46,
   "metadata": {},
   "outputs": [
    {
     "data": {
      "text/latex": [
       "$\\displaystyle \\frac{1.0 \\cdot 2.71828182845905^{B E_{0}} E_{0}}{2.71828182845905^{B E_{0}} - 1}$"
      ],
      "text/plain": [
       "1.0*2.71828182845905**(B*E0)*E0/(2.71828182845905**(B*E0) - 1)"
      ]
     },
     "execution_count": 46,
     "metadata": {},
     "output_type": "execute_result"
    }
   ],
   "source": [
    "e = math.e\n",
    "\n",
    "h = sp.diff(sp.ln(e**(B*E0) - 1), B)\n",
    "h"
   ]
  },
  {
   "cell_type": "code",
   "execution_count": 47,
   "metadata": {},
   "outputs": [
    {
     "data": {
      "text/latex": [
       "$\\displaystyle \\frac{d}{d x} f{\\left(x \\right)}$"
      ],
      "text/plain": [
       "Derivative(f(x), x)"
      ]
     },
     "execution_count": 47,
     "metadata": {},
     "output_type": "execute_result"
    }
   ],
   "source": [
    "f = sp.Function('f')(x)\n",
    "g = sp.Function('g')(f)\n",
    "h = sp.Function('h')(g)\n",
    "\n",
    "sp.diff(f)"
   ]
  },
  {
   "cell_type": "code",
   "execution_count": 48,
   "metadata": {},
   "outputs": [
    {
     "data": {
      "text/latex": [
       "$\\displaystyle f{\\left(x \\right)} g{\\left(f{\\left(x \\right)} \\right)} \\frac{d}{d x} f{\\left(x \\right)} \\frac{d}{d f{\\left(x \\right)}} g{\\left(f{\\left(x \\right)} \\right)} \\frac{d}{d g{\\left(f{\\left(x \\right)} \\right)}} h{\\left(g{\\left(f{\\left(x \\right)} \\right)} \\right)} + f{\\left(x \\right)} h{\\left(g{\\left(f{\\left(x \\right)} \\right)} \\right)} \\frac{d}{d x} f{\\left(x \\right)} \\frac{d}{d f{\\left(x \\right)}} g{\\left(f{\\left(x \\right)} \\right)} + g{\\left(f{\\left(x \\right)} \\right)} h{\\left(g{\\left(f{\\left(x \\right)} \\right)} \\right)} \\frac{d}{d x} f{\\left(x \\right)}$"
      ],
      "text/plain": [
       "f(x)*g(f(x))*Derivative(f(x), x)*Derivative(g(f(x)), f(x))*Derivative(h(g(f(x))), g(f(x))) + f(x)*h(g(f(x)))*Derivative(f(x), x)*Derivative(g(f(x)), f(x)) + g(f(x))*h(g(f(x)))*Derivative(f(x), x)"
      ]
     },
     "execution_count": 48,
     "metadata": {},
     "output_type": "execute_result"
    }
   ],
   "source": [
    "solution = sp.diff(h*(g*(f)))\n",
    "solution"
   ]
  },
  {
   "cell_type": "markdown",
   "metadata": {},
   "source": [
    "Definição para o calculo da media de energia de uma particula no vértice de um cubo"
   ]
  },
  {
   "cell_type": "markdown",
   "metadata": {},
   "source": [
    "Nessa parte eu desejo cheegar em <E> = 1/B, que é a definição da media de energia de uma particula confinada. para isso é necessaria a resolução da negativa da derivada de em relação a beta do Ln da integral em relação a E de 0 a infinito de \"e\" elevado a menos beta vezes epslon:\n",
    "\n",
    "<E> = -d/dB[ln(S(0,00) e^-BE dE)]\n",
    "para simplificar a notação primeiro passo é resolver o ln da integral\n"
   ]
  },
  {
   "cell_type": "code",
   "execution_count": 49,
   "metadata": {},
   "outputs": [
    {
     "data": {
      "text/latex": [
       "$\\displaystyle \\frac{\\int\\limits_{0}^{\\infty} \\left(- 1.0 \\cdot 2.71828182845905^{- B E} E\\right)\\, dE}{\\int\\limits_{0}^{\\infty} 2.71828182845905^{- B E}\\, dE}$"
      ],
      "text/plain": [
       "Integral(-1.0*E/2.71828182845905**(B*E), (E, 0, oo))/Integral(2.71828182845905**(-B*E), (E, 0, oo))"
      ]
     },
     "execution_count": 49,
     "metadata": {},
     "output_type": "execute_result"
    }
   ],
   "source": [
    "oo = sp.oo\n",
    "E = sp.diff(sp.ln(sp.integrate(e**(-B*E), (E, 0, oo))))\n",
    "E\n",
    "\n"
   ]
  }
 ],
 "metadata": {
  "kernelspec": {
   "display_name": "Python 3.9.7 ('base')",
   "language": "python",
   "name": "python3"
  },
  "language_info": {
   "codemirror_mode": {
    "name": "ipython",
    "version": 3
   },
   "file_extension": ".py",
   "mimetype": "text/x-python",
   "name": "python",
   "nbconvert_exporter": "python",
   "pygments_lexer": "ipython3",
   "version": "3.9.7"
  },
  "orig_nbformat": 4,
  "vscode": {
   "interpreter": {
    "hash": "e06ff7da33dc9620448857a90ad8b5f428f0d573d205a934d2841c8aee45ea32"
   }
  }
 },
 "nbformat": 4,
 "nbformat_minor": 2
}
